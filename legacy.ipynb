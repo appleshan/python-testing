{
 "metadata": {
  "name": "legacy"
 },
 "nbformat": 3,
 "nbformat_minor": 0,
 "worksheets": [
  {
   "cells": [
    {
     "cell_type": "markdown",
     "metadata": {},
     "source": [
      "main entry point"
     ]
    },
    {
     "cell_type": "code",
     "collapsed": false,
     "input": [
      "if __name__ == '__main__':\n",
      "    // do stuff\n",
      "    // ..."
     ],
     "language": "python",
     "metadata": {},
     "outputs": []
    },
    {
     "cell_type": "markdown",
     "metadata": {},
     "source": [
      "not testable. only by command line: `python app.py`"
     ]
    },
    {
     "cell_type": "code",
     "collapsed": false,
     "input": [
      "def main():\n",
      "    // do stuff\n",
      "    // ...\n",
      "    \n",
      "    \n",
      "if __name__ == '__main__':\n",
      "    main()"
     ],
     "language": "python",
     "metadata": {},
     "outputs": []
    },
    {
     "cell_type": "markdown",
     "metadata": {},
     "source": [
      "in `test.py`"
     ]
    },
    {
     "cell_type": "code",
     "collapsed": false,
     "input": [
      "def test_main():\n",
      "    from app import main\n",
      "    \n",
      "    main()"
     ],
     "language": "python",
     "metadata": {},
     "outputs": []
    },
    {
     "cell_type": "markdown",
     "metadata": {},
     "source": [
      "if command line tool"
     ]
    },
    {
     "cell_type": "code",
     "collapsed": false,
     "input": [
      "def main(argv):\n",
      "    // do stuff\n",
      "    // ...\n",
      "    \n",
      "    \n",
      "if __name__ == '__main__':\n",
      "    import sys\n",
      "    main(sys.argv)"
     ],
     "language": "python",
     "metadata": {},
     "outputs": []
    },
    {
     "cell_type": "markdown",
     "metadata": {},
     "source": [
      "----"
     ]
    },
    {
     "cell_type": "markdown",
     "metadata": {},
     "source": [
      "implicit dependencies"
     ]
    },
    {
     "cell_type": "code",
     "collapsed": false,
     "input": [
      "def create_author(author):\n",
      "    db = get_db()\n",
      "    db.create_author(author)"
     ],
     "language": "python",
     "metadata": {},
     "outputs": []
    },
    {
     "cell_type": "code",
     "collapsed": false,
     "input": [
      "def create_author(author, db):\n",
      "    db.create_author(author)"
     ],
     "language": "python",
     "metadata": {},
     "outputs": []
    },
    {
     "cell_type": "code",
     "collapsed": false,
     "input": [
      "def create_author(author, create):\n",
      "    create(author)\n",
      "    \n",
      "create_author(author, db.create_author)"
     ],
     "language": "python",
     "metadata": {},
     "outputs": []
    },
    {
     "cell_type": "markdown",
     "metadata": {},
     "source": [
      "step by step"
     ]
    },
    {
     "cell_type": "code",
     "collapsed": false,
     "input": [
      "class persistence_functions:\n",
      "    def __init__(self):\n",
      "        self.db = get_db()\n",
      "        \n",
      "    def create_author(self, author):\n",
      "        self.db.create_author(author)"
     ],
     "language": "python",
     "metadata": {},
     "outputs": []
    },
    {
     "cell_type": "code",
     "collapsed": false,
     "input": [
      "def create_author_testable(author, db):\n",
      "    db.create_author(author)\n",
      "\n",
      "\n",
      "class persistence_functions:\n",
      "    def __init__(self):\n",
      "        self.db = get_db()\n",
      "        \n",
      "    def create_author(self, author):\n",
      "        create_author_testable(author, self.db)"
     ],
     "language": "python",
     "metadata": {},
     "outputs": []
    },
    {
     "cell_type": "code",
     "collapsed": false,
     "input": [
      "def create_author_testable(author, db):\n",
      "    db.create_author(author)\n",
      "\n",
      "\n",
      "class persistence_functions:\n",
      "    def __init__(self, db=None):\n",
      "        if db is None:\n",
      "            db = get_db()\n",
      "            \n",
      "        self.db = db\n",
      "        \n",
      "    def create_author(self, author):\n",
      "        create_author_testable(author, self.db)"
     ],
     "language": "python",
     "metadata": {},
     "outputs": []
    }
   ],
   "metadata": {}
  }
 ]
}